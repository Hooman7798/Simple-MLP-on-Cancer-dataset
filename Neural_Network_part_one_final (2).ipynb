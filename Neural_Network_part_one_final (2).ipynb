{
  "nbformat": 4,
  "nbformat_minor": 0,
  "metadata": {
    "colab": {
      "provenance": []
    },
    "kernelspec": {
      "name": "python3",
      "display_name": "Python 3"
    },
    "language_info": {
      "name": "python"
    }
  },
  "cells": [
    {
      "cell_type": "code",
      "execution_count": 53,
      "metadata": {
        "id": "T15v3_sxYYaC"
      },
      "outputs": [],
      "source": [
        "import numpy as np\n",
        "import matplotlib.pyplot as plt\n",
        "import pandas as pd\n",
        "import seaborn as sns\n",
        "from sklearn.preprocessing import LabelEncoder\n",
        "from sklearn.preprocessing import Normalizer\n",
        "from sklearn.model_selection import train_test_split"
      ]
    },
    {
      "cell_type": "code",
      "source": [
        "data = pd.read_excel('cancer.xlsx', sheet_name='Sheet1',header=None)"
      ],
      "metadata": {
        "id": "vhPygGI0kSbu"
      },
      "execution_count": 54,
      "outputs": []
    },
    {
      "cell_type": "code",
      "source": [
        "x = data. iloc[:, 0:9]"
      ],
      "metadata": {
        "id": "ETfMkNyorKBY"
      },
      "execution_count": 55,
      "outputs": []
    },
    {
      "cell_type": "code",
      "source": [
        "x\n"
      ],
      "metadata": {
        "colab": {
          "base_uri": "https://localhost:8080/",
          "height": 423
        },
        "id": "TxOivTUtkr_R",
        "outputId": "0f8bd7d1-43d1-4ab5-eec1-52dfb3384904"
      },
      "execution_count": 31,
      "outputs": [
        {
          "output_type": "execute_result",
          "data": {
            "text/plain": [
              "       0    1    2    3    4    5    6    7    8\n",
              "0    0.2  0.1  0.1  0.1  0.2  0.1  0.2  0.1  0.1\n",
              "1    0.2  0.1  0.1  0.1  0.2  0.1  0.3  0.1  0.1\n",
              "2    0.5  0.1  0.1  0.1  0.2  0.1  0.2  0.1  0.1\n",
              "3    0.5  0.4  0.6  0.8  0.4  0.1  0.8  1.0  0.1\n",
              "4    0.5  0.3  0.3  0.1  0.2  0.1  0.2  0.1  0.1\n",
              "..   ...  ...  ...  ...  ...  ...  ...  ...  ...\n",
              "694  0.5  0.1  0.2  0.1  0.2  0.1  0.1  0.1  0.1\n",
              "695  0.7  0.5  0.6  1.0  0.5  1.0  0.7  0.9  0.4\n",
              "696  0.6  1.0  1.0  1.0  0.8  1.0  0.7  1.0  0.7\n",
              "697  0.5  0.7  1.0  1.0  0.5  1.0  1.0  1.0  0.1\n",
              "698  0.1  0.1  0.1  0.1  0.2  0.1  0.2  0.1  0.1\n",
              "\n",
              "[699 rows x 9 columns]"
            ],
            "text/html": [
              "\n",
              "  <div id=\"df-551c59e1-3ccf-4636-b918-649d347d60c0\">\n",
              "    <div class=\"colab-df-container\">\n",
              "      <div>\n",
              "<style scoped>\n",
              "    .dataframe tbody tr th:only-of-type {\n",
              "        vertical-align: middle;\n",
              "    }\n",
              "\n",
              "    .dataframe tbody tr th {\n",
              "        vertical-align: top;\n",
              "    }\n",
              "\n",
              "    .dataframe thead th {\n",
              "        text-align: right;\n",
              "    }\n",
              "</style>\n",
              "<table border=\"1\" class=\"dataframe\">\n",
              "  <thead>\n",
              "    <tr style=\"text-align: right;\">\n",
              "      <th></th>\n",
              "      <th>0</th>\n",
              "      <th>1</th>\n",
              "      <th>2</th>\n",
              "      <th>3</th>\n",
              "      <th>4</th>\n",
              "      <th>5</th>\n",
              "      <th>6</th>\n",
              "      <th>7</th>\n",
              "      <th>8</th>\n",
              "    </tr>\n",
              "  </thead>\n",
              "  <tbody>\n",
              "    <tr>\n",
              "      <th>0</th>\n",
              "      <td>0.2</td>\n",
              "      <td>0.1</td>\n",
              "      <td>0.1</td>\n",
              "      <td>0.1</td>\n",
              "      <td>0.2</td>\n",
              "      <td>0.1</td>\n",
              "      <td>0.2</td>\n",
              "      <td>0.1</td>\n",
              "      <td>0.1</td>\n",
              "    </tr>\n",
              "    <tr>\n",
              "      <th>1</th>\n",
              "      <td>0.2</td>\n",
              "      <td>0.1</td>\n",
              "      <td>0.1</td>\n",
              "      <td>0.1</td>\n",
              "      <td>0.2</td>\n",
              "      <td>0.1</td>\n",
              "      <td>0.3</td>\n",
              "      <td>0.1</td>\n",
              "      <td>0.1</td>\n",
              "    </tr>\n",
              "    <tr>\n",
              "      <th>2</th>\n",
              "      <td>0.5</td>\n",
              "      <td>0.1</td>\n",
              "      <td>0.1</td>\n",
              "      <td>0.1</td>\n",
              "      <td>0.2</td>\n",
              "      <td>0.1</td>\n",
              "      <td>0.2</td>\n",
              "      <td>0.1</td>\n",
              "      <td>0.1</td>\n",
              "    </tr>\n",
              "    <tr>\n",
              "      <th>3</th>\n",
              "      <td>0.5</td>\n",
              "      <td>0.4</td>\n",
              "      <td>0.6</td>\n",
              "      <td>0.8</td>\n",
              "      <td>0.4</td>\n",
              "      <td>0.1</td>\n",
              "      <td>0.8</td>\n",
              "      <td>1.0</td>\n",
              "      <td>0.1</td>\n",
              "    </tr>\n",
              "    <tr>\n",
              "      <th>4</th>\n",
              "      <td>0.5</td>\n",
              "      <td>0.3</td>\n",
              "      <td>0.3</td>\n",
              "      <td>0.1</td>\n",
              "      <td>0.2</td>\n",
              "      <td>0.1</td>\n",
              "      <td>0.2</td>\n",
              "      <td>0.1</td>\n",
              "      <td>0.1</td>\n",
              "    </tr>\n",
              "    <tr>\n",
              "      <th>...</th>\n",
              "      <td>...</td>\n",
              "      <td>...</td>\n",
              "      <td>...</td>\n",
              "      <td>...</td>\n",
              "      <td>...</td>\n",
              "      <td>...</td>\n",
              "      <td>...</td>\n",
              "      <td>...</td>\n",
              "      <td>...</td>\n",
              "    </tr>\n",
              "    <tr>\n",
              "      <th>694</th>\n",
              "      <td>0.5</td>\n",
              "      <td>0.1</td>\n",
              "      <td>0.2</td>\n",
              "      <td>0.1</td>\n",
              "      <td>0.2</td>\n",
              "      <td>0.1</td>\n",
              "      <td>0.1</td>\n",
              "      <td>0.1</td>\n",
              "      <td>0.1</td>\n",
              "    </tr>\n",
              "    <tr>\n",
              "      <th>695</th>\n",
              "      <td>0.7</td>\n",
              "      <td>0.5</td>\n",
              "      <td>0.6</td>\n",
              "      <td>1.0</td>\n",
              "      <td>0.5</td>\n",
              "      <td>1.0</td>\n",
              "      <td>0.7</td>\n",
              "      <td>0.9</td>\n",
              "      <td>0.4</td>\n",
              "    </tr>\n",
              "    <tr>\n",
              "      <th>696</th>\n",
              "      <td>0.6</td>\n",
              "      <td>1.0</td>\n",
              "      <td>1.0</td>\n",
              "      <td>1.0</td>\n",
              "      <td>0.8</td>\n",
              "      <td>1.0</td>\n",
              "      <td>0.7</td>\n",
              "      <td>1.0</td>\n",
              "      <td>0.7</td>\n",
              "    </tr>\n",
              "    <tr>\n",
              "      <th>697</th>\n",
              "      <td>0.5</td>\n",
              "      <td>0.7</td>\n",
              "      <td>1.0</td>\n",
              "      <td>1.0</td>\n",
              "      <td>0.5</td>\n",
              "      <td>1.0</td>\n",
              "      <td>1.0</td>\n",
              "      <td>1.0</td>\n",
              "      <td>0.1</td>\n",
              "    </tr>\n",
              "    <tr>\n",
              "      <th>698</th>\n",
              "      <td>0.1</td>\n",
              "      <td>0.1</td>\n",
              "      <td>0.1</td>\n",
              "      <td>0.1</td>\n",
              "      <td>0.2</td>\n",
              "      <td>0.1</td>\n",
              "      <td>0.2</td>\n",
              "      <td>0.1</td>\n",
              "      <td>0.1</td>\n",
              "    </tr>\n",
              "  </tbody>\n",
              "</table>\n",
              "<p>699 rows × 9 columns</p>\n",
              "</div>\n",
              "      <button class=\"colab-df-convert\" onclick=\"convertToInteractive('df-551c59e1-3ccf-4636-b918-649d347d60c0')\"\n",
              "              title=\"Convert this dataframe to an interactive table.\"\n",
              "              style=\"display:none;\">\n",
              "        \n",
              "  <svg xmlns=\"http://www.w3.org/2000/svg\" height=\"24px\"viewBox=\"0 0 24 24\"\n",
              "       width=\"24px\">\n",
              "    <path d=\"M0 0h24v24H0V0z\" fill=\"none\"/>\n",
              "    <path d=\"M18.56 5.44l.94 2.06.94-2.06 2.06-.94-2.06-.94-.94-2.06-.94 2.06-2.06.94zm-11 1L8.5 8.5l.94-2.06 2.06-.94-2.06-.94L8.5 2.5l-.94 2.06-2.06.94zm10 10l.94 2.06.94-2.06 2.06-.94-2.06-.94-.94-2.06-.94 2.06-2.06.94z\"/><path d=\"M17.41 7.96l-1.37-1.37c-.4-.4-.92-.59-1.43-.59-.52 0-1.04.2-1.43.59L10.3 9.45l-7.72 7.72c-.78.78-.78 2.05 0 2.83L4 21.41c.39.39.9.59 1.41.59.51 0 1.02-.2 1.41-.59l7.78-7.78 2.81-2.81c.8-.78.8-2.07 0-2.86zM5.41 20L4 18.59l7.72-7.72 1.47 1.35L5.41 20z\"/>\n",
              "  </svg>\n",
              "      </button>\n",
              "      \n",
              "  <style>\n",
              "    .colab-df-container {\n",
              "      display:flex;\n",
              "      flex-wrap:wrap;\n",
              "      gap: 12px;\n",
              "    }\n",
              "\n",
              "    .colab-df-convert {\n",
              "      background-color: #E8F0FE;\n",
              "      border: none;\n",
              "      border-radius: 50%;\n",
              "      cursor: pointer;\n",
              "      display: none;\n",
              "      fill: #1967D2;\n",
              "      height: 32px;\n",
              "      padding: 0 0 0 0;\n",
              "      width: 32px;\n",
              "    }\n",
              "\n",
              "    .colab-df-convert:hover {\n",
              "      background-color: #E2EBFA;\n",
              "      box-shadow: 0px 1px 2px rgba(60, 64, 67, 0.3), 0px 1px 3px 1px rgba(60, 64, 67, 0.15);\n",
              "      fill: #174EA6;\n",
              "    }\n",
              "\n",
              "    [theme=dark] .colab-df-convert {\n",
              "      background-color: #3B4455;\n",
              "      fill: #D2E3FC;\n",
              "    }\n",
              "\n",
              "    [theme=dark] .colab-df-convert:hover {\n",
              "      background-color: #434B5C;\n",
              "      box-shadow: 0px 1px 3px 1px rgba(0, 0, 0, 0.15);\n",
              "      filter: drop-shadow(0px 1px 2px rgba(0, 0, 0, 0.3));\n",
              "      fill: #FFFFFF;\n",
              "    }\n",
              "  </style>\n",
              "\n",
              "      <script>\n",
              "        const buttonEl =\n",
              "          document.querySelector('#df-551c59e1-3ccf-4636-b918-649d347d60c0 button.colab-df-convert');\n",
              "        buttonEl.style.display =\n",
              "          google.colab.kernel.accessAllowed ? 'block' : 'none';\n",
              "\n",
              "        async function convertToInteractive(key) {\n",
              "          const element = document.querySelector('#df-551c59e1-3ccf-4636-b918-649d347d60c0');\n",
              "          const dataTable =\n",
              "            await google.colab.kernel.invokeFunction('convertToInteractive',\n",
              "                                                     [key], {});\n",
              "          if (!dataTable) return;\n",
              "\n",
              "          const docLinkHtml = 'Like what you see? Visit the ' +\n",
              "            '<a target=\"_blank\" href=https://colab.research.google.com/notebooks/data_table.ipynb>data table notebook</a>'\n",
              "            + ' to learn more about interactive tables.';\n",
              "          element.innerHTML = '';\n",
              "          dataTable['output_type'] = 'display_data';\n",
              "          await google.colab.output.renderOutput(dataTable, element);\n",
              "          const docLink = document.createElement('div');\n",
              "          docLink.innerHTML = docLinkHtml;\n",
              "          element.appendChild(docLink);\n",
              "        }\n",
              "      </script>\n",
              "    </div>\n",
              "  </div>\n",
              "  "
            ]
          },
          "metadata": {},
          "execution_count": 31
        }
      ]
    },
    {
      "cell_type": "code",
      "source": [
        "y = data[9]"
      ],
      "metadata": {
        "id": "oud8BhfimhnY"
      },
      "execution_count": 56,
      "outputs": []
    },
    {
      "cell_type": "code",
      "source": [
        "y"
      ],
      "metadata": {
        "colab": {
          "base_uri": "https://localhost:8080/"
        },
        "id": "3f_K3V-Xoc8Z",
        "outputId": "c6f6748f-0583-4cb1-8ad2-5e6df4f18aab"
      },
      "execution_count": 57,
      "outputs": [
        {
          "output_type": "execute_result",
          "data": {
            "text/plain": [
              "0      1\n",
              "1      1\n",
              "2      1\n",
              "3      0\n",
              "4      1\n",
              "      ..\n",
              "694    1\n",
              "695    0\n",
              "696    0\n",
              "697    0\n",
              "698    1\n",
              "Name: 9, Length: 699, dtype: int64"
            ]
          },
          "metadata": {},
          "execution_count": 57
        }
      ]
    },
    {
      "cell_type": "code",
      "source": [
        "print(\"missing value\")\n",
        "print(data.isna().sum())"
      ],
      "metadata": {
        "colab": {
          "base_uri": "https://localhost:8080/"
        },
        "id": "ytNK14WmtDn4",
        "outputId": "3a7e16f6-f3c5-4e08-874e-89399b753028"
      },
      "execution_count": 58,
      "outputs": [
        {
          "output_type": "stream",
          "name": "stdout",
          "text": [
            "missing value\n",
            "0    0\n",
            "1    0\n",
            "2    0\n",
            "3    0\n",
            "4    0\n",
            "5    0\n",
            "6    0\n",
            "7    0\n",
            "8    0\n",
            "9    0\n",
            "dtype: int64\n"
          ]
        }
      ]
    },
    {
      "cell_type": "code",
      "source": [
        "le=LabelEncoder()\n",
        "encoded_data= data.copy()\n",
        "for col in encoded_data.columns:\n",
        "  encoded_data.loc[:,col]=le.fit_transform(encoded_data.loc[:,col])"
      ],
      "metadata": {
        "id": "R7oH4tiwwZ_Z"
      },
      "execution_count": 59,
      "outputs": []
    },
    {
      "cell_type": "code",
      "source": [
        "indep=[]\n",
        "straight=[]\n",
        "reverse=[]\n",
        "data_corr= encoded_data.corr()\n",
        "for i in range(len(data_corr)-1):\n",
        "  for j in range(len(data_corr)-1):\n",
        "    if(data_corr[i][j] > 0.95):\n",
        "      straight.append([i,j])\n",
        "    elif(data_corr[i][j] == 0):\n",
        "      indep.append([i,j])\n",
        "    elif(data_corr[i][j] < 0):\n",
        "      reverse.append([i,j])\n"
      ],
      "metadata": {
        "id": "WfGvfr0MxFRw"
      },
      "execution_count": 60,
      "outputs": []
    },
    {
      "cell_type": "code",
      "source": [
        "print(\"straight columns\",straight)\n",
        "print(\"independent columns \" , indep)\n",
        "print(\"reversed columns \" , reverse)"
      ],
      "metadata": {
        "colab": {
          "base_uri": "https://localhost:8080/"
        },
        "id": "qRsoN12nxT0H",
        "outputId": "790a55a5-18a5-418a-c833-dd51ea07264a"
      },
      "execution_count": 61,
      "outputs": [
        {
          "output_type": "stream",
          "name": "stdout",
          "text": [
            "straight columns [[0, 0], [1, 1], [2, 2], [3, 3], [4, 4], [5, 5], [6, 6], [7, 7], [8, 8]]\n",
            "independent columns  []\n",
            "reversed columns  []\n"
          ]
        }
      ]
    },
    {
      "cell_type": "code",
      "source": [
        "plt.figure(figsize=(20,10))\n",
        "sns.heatmap(data.corr(),annot=True,cmap='BrBG')\n",
        "plt.title('Correlation Heatmap',fontsize=14)\n",
        "plt.yticks(rotation =0)\n",
        "plt.show()"
      ],
      "metadata": {
        "colab": {
          "base_uri": "https://localhost:8080/",
          "height": 602
        },
        "id": "HZqoDf-p-6Rc",
        "outputId": "47cb9002-634c-4fd8-fc72-3b07006e6217"
      },
      "execution_count": 62,
      "outputs": [
        {
          "output_type": "display_data",
          "data": {
            "text/plain": [
              "<Figure size 1440x720 with 2 Axes>"
            ],
            "image/png": "[encoded data removed]"
          },
          "metadata": {
            "needs_background": "light"
          }
        }
      ]
    },
    {
      "cell_type": "code",
      "source": [
        "X_train, X_test, y_train, y_test = train_test_split(x , y, test_size=0.2, random_state=42)"
      ],
      "metadata": {
        "id": "BqwT_a28xa3P"
      },
      "execution_count": 63,
      "outputs": []
    },
    {
      "cell_type": "code",
      "source": [
        "X_train = X_train.T\n",
        "y_train = y_train.values.reshape(1, y_train.shape[0])\n",
        "X_test = X_test.T\n",
        "y_test = y_test.values.reshape(1, y_test.shape[0])"
      ],
      "metadata": {
        "id": "DkDOYMtcyckw"
      },
      "execution_count": 64,
      "outputs": []
    },
    {
      "cell_type": "code",
      "source": [
        "print (\"Train X Shape: \", X_train.shape)\n",
        "print (\"Train Y Shape: \", y_train.shape)\n",
        "print (\"I have m = %d training examples!\" % (X_train.shape[1]))\n",
        "\n",
        "print ('\\nTest X Shape: ', X_test.shape)"
      ],
      "metadata": {
        "colab": {
          "base_uri": "https://localhost:8080/"
        },
        "id": "__1oDwt7zqh7",
        "outputId": "fc1d0fd9-706f-43dd-a60e-1eba8f2fb381"
      },
      "execution_count": 65,
      "outputs": [
        {
          "output_type": "stream",
          "name": "stdout",
          "text": [
            "Train X Shape:  (9, 559)\n",
            "Train Y Shape:  (1, 559)\n",
            "I have m = 559 training examples!\n",
            "\n",
            "Test X Shape:  (9, 140)\n"
          ]
        }
      ]
    },
    {
      "cell_type": "code",
      "source": [
        "# Run one block between this block and next block \n",
        "def define_structure(X, Y):\n",
        "    input_unit = 9 # size of input layer\n",
        "    hidden_unit = 30 # hidden layer of size 30\n",
        "    output_unit = Y.shape[0] # size of output layer\n",
        "    return (input_unit, hidden_unit, output_unit)"
      ],
      "metadata": {
        "id": "q098rpMw0mbl"
      },
      "execution_count": 16,
      "outputs": []
    },
    {
      "cell_type": "code",
      "source": [
        "def define_structure(X, Y):\n",
        "    input_unit = 9 # size of input layer\n",
        "    hidden_unit = 1000 # hidden layer of size 100\n",
        "    output_unit = Y.shape[0] # size of output layer\n",
        "    return (input_unit, hidden_unit, output_unit)"
      ],
      "metadata": {
        "id": "JuXn4AojSZf2"
      },
      "execution_count": 88,
      "outputs": []
    },
    {
      "cell_type": "code",
      "source": [
        "(input_unit, hidden_unit, output_unit) = define_structure(X_train, y_train)\n",
        "print(\"The size of the input layer is:  = \" + str(input_unit))\n",
        "print(\"The size of the hidden layer is:  = \" + str(hidden_unit))\n",
        "print(\"The size of the output layer is:  = \" + str(output_unit))"
      ],
      "metadata": {
        "colab": {
          "base_uri": "https://localhost:8080/"
        },
        "id": "xOFSpINX3rZc",
        "outputId": "4fa03068-a402-4af9-cd7c-544fc9d78322"
      },
      "execution_count": 89,
      "outputs": [
        {
          "output_type": "stream",
          "name": "stdout",
          "text": [
            "The size of the input layer is:  = 9\n",
            "The size of the hidden layer is:  = 1000\n",
            "The size of the output layer is:  = 1\n"
          ]
        }
      ]
    },
    {
      "cell_type": "code",
      "source": [
        "def parameters_initialization(input_unit, hidden_unit, output_unit):\n",
        "    np.random.seed(2) \n",
        "    W1 = np.random.randn(hidden_unit, input_unit)*0.01\n",
        "    b1 = np.zeros((hidden_unit, 1))\n",
        "    W2 = np.random.randn(output_unit, hidden_unit)*0.01\n",
        "    b2 = np.zeros((output_unit, 1))\n",
        "    parameters = {\"W1\": W1,\n",
        "                  \"b1\": b1,\n",
        "                  \"W2\": W2,\n",
        "                  \"b2\": b2}\n",
        "    \n",
        "    return parameters"
      ],
      "metadata": {
        "id": "q2d8u6ji39oW"
      },
      "execution_count": 90,
      "outputs": []
    },
    {
      "cell_type": "code",
      "source": [
        "def sigmoid(z):\n",
        "    return 1/(1+np.exp(-z))"
      ],
      "metadata": {
        "id": "DL8AhZRF58qW"
      },
      "execution_count": 91,
      "outputs": []
    },
    {
      "cell_type": "code",
      "source": [
        "def forward_propagation(X, parameters):\n",
        "    W1 = parameters['W1']\n",
        "    b1 = parameters['b1']\n",
        "    W2 = parameters['W2']\n",
        "    b2 = parameters['b2']\n",
        "    \n",
        "    Z1 = np.dot(W1, X) + b1\n",
        "    A1 = np.tanh(Z1)\n",
        "    Z2 = np.dot(W2, A1) + b2\n",
        "    A2 = sigmoid(Z2)\n",
        "    cache = {\"Z1\": Z1,\"A1\": A1,\"Z2\": Z2,\"A2\": A2}\n",
        "    \n",
        "    return A2, cache"
      ],
      "metadata": {
        "id": "ryxFHDFHHgop"
      },
      "execution_count": 92,
      "outputs": []
    },
    {
      "cell_type": "code",
      "source": [
        "def cross_entropy_cost(A2, Y, parameters):\n",
        "    # number of training example\n",
        "    m = Y.shape[1] \n",
        "    # Compute the cross-entropy cost\n",
        "    logprobs = np.multiply(np.log(A2), Y) + np.multiply((1-Y), np.log(1 - A2))\n",
        "    cost = - np.sum(logprobs) / m\n",
        "    cost = float(np.squeeze(cost))\n",
        "                                    \n",
        "    return cost"
      ],
      "metadata": {
        "id": "ZyAnyvgU_h33"
      },
      "execution_count": 93,
      "outputs": []
    },
    {
      "cell_type": "code",
      "source": [
        "def backward_propagation(parameters, cache, X, Y):\n",
        "    #number of training example\n",
        "    m = X.shape[1]\n",
        "    \n",
        "    W1 = parameters['W1']\n",
        "    W2 = parameters['W2']\n",
        "    A1 = cache['A1']\n",
        "    A2 = cache['A2']\n",
        "   \n",
        "    dZ2 = A2-Y\n",
        "    dW2 = (1/m) * np.dot(dZ2, A1.T)\n",
        "    db2 = (1/m) * np.sum(dZ2, axis=1, keepdims=True)\n",
        "    dZ1 = np.multiply(np.dot(W2.T, dZ2), 1 - np.power(A1, 2))\n",
        "    dW1 = (1/m) * np.dot(dZ1, X.T) \n",
        "    db1 = (1/m)*np.sum(dZ1, axis=1, keepdims=True)\n",
        "    \n",
        "    grads = {\"dW1\": dW1, \"db1\": db1, \"dW2\": dW2,\"db2\": db2}\n",
        "    return grads"
      ],
      "metadata": {
        "id": "ARLLC3VmBGX3"
      },
      "execution_count": 94,
      "outputs": []
    },
    {
      "cell_type": "code",
      "source": [
        "def gradient_descent(parameters, grads, learning_rate = 0.01):\n",
        "    W1 = parameters['W1']\n",
        "    b1 = parameters['b1']\n",
        "    W2 = parameters['W2']\n",
        "    b2 = parameters['b2']\n",
        "   \n",
        "    dW1 = grads['dW1']\n",
        "    db1 = grads['db1']\n",
        "    dW2 = grads['dW2']\n",
        "    db2 = grads['db2']\n",
        "    W1 = W1 - learning_rate * dW1\n",
        "    b1 = b1 - learning_rate * db1\n",
        "    W2 = W2 - learning_rate * dW2\n",
        "    b2 = b2 - learning_rate * db2\n",
        "    \n",
        "    parameters = {\"W1\": W1, \"b1\": b1,\"W2\": W2,\"b2\": b2}\n",
        " \n",
        "    return parameters\n",
        "   "
      ],
      "metadata": {
        "id": "zQsI-HqXF6qK"
      },
      "execution_count": 95,
      "outputs": []
    },
    {
      "cell_type": "code",
      "source": [
        "# Run one block between this block and next block \n",
        "def neural_network_model(X, Y, hidden_unit, num_iterations = 100):\n",
        "    np.random.seed(3)\n",
        "    input_unit = define_structure(X, Y)[0]\n",
        "    output_unit = define_structure(X, Y)[2]\n",
        "    \n",
        "    parameters = parameters_initialization(input_unit, hidden_unit, output_unit)\n",
        "   \n",
        "    W1 = parameters['W1']\n",
        "    b1 = parameters['b1']\n",
        "    W2 = parameters['W2']\n",
        "    b2 = parameters['b2']\n",
        "    \n",
        "    for i in range(0, num_iterations):\n",
        "        A2, cache = forward_propagation(X, parameters)\n",
        "        cost = cross_entropy_cost(A2, Y, parameters)\n",
        "        grads = backward_propagation(parameters, cache, X, Y)\n",
        "        parameters = gradient_descent(parameters, grads)\n",
        "        if i % 5 == 0:\n",
        "            print (\"Cost after iteration %i: %f\" %(i, cost))\n",
        "    return parameters\n",
        "parameters = neural_network_model(X_train, y_train, 30, num_iterations=100)"
      ],
      "metadata": {
        "colab": {
          "base_uri": "https://localhost:8080/"
        },
        "id": "mw_BtpVUGNQX",
        "outputId": "e728b32f-b738-4f0c-be6a-d2a816bb2398"
      },
      "execution_count": 25,
      "outputs": [
        {
          "output_type": "stream",
          "name": "stdout",
          "text": [
            "Cost after iteration 0: 0.692943\n",
            "Cost after iteration 5: 0.691407\n",
            "Cost after iteration 10: 0.689905\n",
            "Cost after iteration 15: 0.688436\n",
            "Cost after iteration 20: 0.687000\n",
            "Cost after iteration 25: 0.685596\n",
            "Cost after iteration 30: 0.684222\n",
            "Cost after iteration 35: 0.682878\n",
            "Cost after iteration 40: 0.681562\n",
            "Cost after iteration 45: 0.680275\n",
            "Cost after iteration 50: 0.679015\n",
            "Cost after iteration 55: 0.677781\n",
            "Cost after iteration 60: 0.676572\n",
            "Cost after iteration 65: 0.675389\n",
            "Cost after iteration 70: 0.674229\n",
            "Cost after iteration 75: 0.673093\n",
            "Cost after iteration 80: 0.671979\n",
            "Cost after iteration 85: 0.670888\n",
            "Cost after iteration 90: 0.669817\n",
            "Cost after iteration 95: 0.668767\n"
          ]
        }
      ]
    },
    {
      "cell_type": "code",
      "source": [
        "def neural_network_model(X, Y, hidden_unit, num_iterations =1000):\n",
        "    np.random.seed(3)\n",
        "    input_unit = define_structure(X, Y)[0]\n",
        "    output_unit = define_structure(X, Y)[2]\n",
        "    \n",
        "    parameters = parameters_initialization(input_unit, hidden_unit, output_unit)\n",
        "   \n",
        "    W1 = parameters['W1']\n",
        "    b1 = parameters['b1']\n",
        "    W2 = parameters['W2']\n",
        "    b2 = parameters['b2']\n",
        "    \n",
        "    for i in range(0, num_iterations):\n",
        "        A2, cache = forward_propagation(X, parameters)\n",
        "        cost = cross_entropy_cost(A2, Y, parameters)\n",
        "        grads = backward_propagation(parameters, cache, X, Y)\n",
        "        parameters = gradient_descent(parameters, grads)\n",
        "        if i % 5 == 0:\n",
        "            print (\"Cost after iteration %i: %f\" %(i, cost))\n",
        "    return parameters\n",
        "parameters = neural_network_model(X_train, y_train,600, num_iterations=1000)"
      ],
      "metadata": {
        "colab": {
          "base_uri": "https://localhost:8080/"
        },
        "id": "A0YXtRnZSktL",
        "outputId": "6c7cb812-e254-42d2-9e27-5505fb575688"
      },
      "execution_count": 96,
      "outputs": [
        {
          "output_type": "stream",
          "name": "stdout",
          "text": [
            "Cost after iteration 0: 0.693369\n",
            "Cost after iteration 5: 0.691754\n",
            "Cost after iteration 10: 0.690173\n",
            "Cost after iteration 15: 0.688624\n",
            "Cost after iteration 20: 0.687105\n",
            "Cost after iteration 25: 0.685617\n",
            "Cost after iteration 30: 0.684158\n",
            "Cost after iteration 35: 0.682728\n",
            "Cost after iteration 40: 0.681324\n",
            "Cost after iteration 45: 0.679947\n",
            "Cost after iteration 50: 0.678595\n",
            "Cost after iteration 55: 0.677268\n",
            "Cost after iteration 60: 0.675965\n",
            "Cost after iteration 65: 0.674685\n",
            "Cost after iteration 70: 0.673427\n",
            "Cost after iteration 75: 0.672191\n",
            "Cost after iteration 80: 0.670976\n",
            "Cost after iteration 85: 0.669780\n",
            "Cost after iteration 90: 0.668603\n",
            "Cost after iteration 95: 0.667446\n",
            "Cost after iteration 100: 0.666306\n",
            "Cost after iteration 105: 0.665183\n",
            "Cost after iteration 110: 0.664076\n",
            "Cost after iteration 115: 0.662986\n",
            "Cost after iteration 120: 0.661911\n",
            "Cost after iteration 125: 0.660850\n",
            "Cost after iteration 130: 0.659803\n",
            "Cost after iteration 135: 0.658770\n",
            "Cost after iteration 140: 0.657749\n",
            "Cost after iteration 145: 0.656741\n",
            "Cost after iteration 150: 0.655744\n",
            "Cost after iteration 155: 0.654758\n",
            "Cost after iteration 160: 0.653783\n",
            "Cost after iteration 165: 0.652818\n",
            "Cost after iteration 170: 0.651862\n",
            "Cost after iteration 175: 0.650915\n",
            "Cost after iteration 180: 0.649976\n",
            "Cost after iteration 185: 0.649045\n",
            "Cost after iteration 190: 0.648121\n",
            "Cost after iteration 195: 0.647205\n",
            "Cost after iteration 200: 0.646294\n",
            "Cost after iteration 205: 0.645390\n",
            "Cost after iteration 210: 0.644491\n",
            "Cost after iteration 215: 0.643596\n",
            "Cost after iteration 220: 0.642706\n",
            "Cost after iteration 225: 0.641820\n",
            "Cost after iteration 230: 0.640938\n",
            "Cost after iteration 235: 0.640058\n",
            "Cost after iteration 240: 0.639181\n",
            "Cost after iteration 245: 0.638306\n",
            "Cost after iteration 250: 0.637433\n",
            "Cost after iteration 255: 0.636560\n",
            "Cost after iteration 260: 0.635689\n",
            "Cost after iteration 265: 0.634818\n",
            "Cost after iteration 270: 0.633947\n",
            "Cost after iteration 275: 0.633075\n",
            "Cost after iteration 280: 0.632202\n",
            "Cost after iteration 285: 0.631328\n",
            "Cost after iteration 290: 0.630452\n",
            "Cost after iteration 295: 0.629574\n",
            "Cost after iteration 300: 0.628693\n",
            "Cost after iteration 305: 0.627808\n",
            "Cost after iteration 310: 0.626921\n",
            "Cost after iteration 315: 0.626029\n",
            "Cost after iteration 320: 0.625133\n",
            "Cost after iteration 325: 0.624233\n",
            "Cost after iteration 330: 0.623327\n",
            "Cost after iteration 335: 0.622415\n",
            "Cost after iteration 340: 0.621498\n",
            "Cost after iteration 345: 0.620574\n",
            "Cost after iteration 350: 0.619644\n",
            "Cost after iteration 355: 0.618707\n",
            "Cost after iteration 360: 0.617761\n",
            "Cost after iteration 365: 0.616808\n",
            "Cost after iteration 370: 0.615847\n",
            "Cost after iteration 375: 0.614877\n",
            "Cost after iteration 380: 0.613898\n",
            "Cost after iteration 385: 0.612909\n",
            "Cost after iteration 390: 0.611911\n",
            "Cost after iteration 395: 0.610903\n",
            "Cost after iteration 400: 0.609883\n",
            "Cost after iteration 405: 0.608853\n",
            "Cost after iteration 410: 0.607812\n",
            "Cost after iteration 415: 0.606759\n",
            "Cost after iteration 420: 0.605694\n",
            "Cost after iteration 425: 0.604617\n",
            "Cost after iteration 430: 0.603527\n",
            "Cost after iteration 435: 0.602425\n",
            "Cost after iteration 440: 0.601309\n",
            "Cost after iteration 445: 0.600179\n",
            "Cost after iteration 450: 0.599035\n",
            "Cost after iteration 455: 0.597877\n",
            "Cost after iteration 460: 0.596705\n",
            "Cost after iteration 465: 0.595517\n",
            "Cost after iteration 470: 0.594315\n",
            "Cost after iteration 475: 0.593097\n",
            "Cost after iteration 480: 0.591864\n",
            "Cost after iteration 485: 0.590614\n",
            "Cost after iteration 490: 0.589348\n",
            "Cost after iteration 495: 0.588066\n",
            "Cost after iteration 500: 0.586768\n",
            "Cost after iteration 505: 0.585452\n",
            "Cost after iteration 510: 0.584119\n",
            "Cost after iteration 515: 0.582769\n",
            "Cost after iteration 520: 0.581402\n",
            "Cost after iteration 525: 0.580017\n",
            "Cost after iteration 530: 0.578614\n",
            "Cost after iteration 535: 0.577193\n",
            "Cost after iteration 540: 0.575754\n",
            "Cost after iteration 545: 0.574297\n",
            "Cost after iteration 550: 0.572821\n",
            "Cost after iteration 555: 0.571327\n",
            "Cost after iteration 560: 0.569814\n",
            "Cost after iteration 565: 0.568283\n",
            "Cost after iteration 570: 0.566733\n",
            "Cost after iteration 575: 0.565165\n",
            "Cost after iteration 580: 0.563578\n",
            "Cost after iteration 585: 0.561972\n",
            "Cost after iteration 590: 0.560347\n",
            "Cost after iteration 595: 0.558703\n",
            "Cost after iteration 600: 0.557041\n",
            "Cost after iteration 605: 0.555361\n",
            "Cost after iteration 610: 0.553662\n",
            "Cost after iteration 615: 0.551944\n",
            "Cost after iteration 620: 0.550208\n",
            "Cost after iteration 625: 0.548454\n",
            "Cost after iteration 630: 0.546681\n",
            "Cost after iteration 635: 0.544891\n",
            "Cost after iteration 640: 0.543083\n",
            "Cost after iteration 645: 0.541257\n",
            "Cost after iteration 650: 0.539413\n",
            "Cost after iteration 655: 0.537553\n",
            "Cost after iteration 660: 0.535675\n",
            "Cost after iteration 665: 0.533781\n",
            "Cost after iteration 670: 0.531870\n",
            "Cost after iteration 675: 0.529943\n",
            "Cost after iteration 680: 0.527999\n",
            "Cost after iteration 685: 0.526041\n",
            "Cost after iteration 690: 0.524066\n",
            "Cost after iteration 695: 0.522077\n",
            "Cost after iteration 700: 0.520072\n",
            "Cost after iteration 705: 0.518053\n",
            "Cost after iteration 710: 0.516020\n",
            "Cost after iteration 715: 0.513973\n",
            "Cost after iteration 720: 0.511913\n",
            "Cost after iteration 725: 0.509839\n",
            "Cost after iteration 730: 0.507753\n",
            "Cost after iteration 735: 0.505654\n",
            "Cost after iteration 740: 0.503544\n",
            "Cost after iteration 745: 0.501422\n",
            "Cost after iteration 750: 0.499288\n",
            "Cost after iteration 755: 0.497144\n",
            "Cost after iteration 760: 0.494989\n",
            "Cost after iteration 765: 0.492824\n",
            "Cost after iteration 770: 0.490650\n",
            "Cost after iteration 775: 0.488466\n",
            "Cost after iteration 780: 0.486274\n",
            "Cost after iteration 785: 0.484073\n",
            "Cost after iteration 790: 0.481864\n",
            "Cost after iteration 795: 0.479647\n",
            "Cost after iteration 800: 0.477424\n",
            "Cost after iteration 805: 0.475193\n",
            "Cost after iteration 810: 0.472956\n",
            "Cost after iteration 815: 0.470713\n",
            "Cost after iteration 820: 0.468464\n",
            "Cost after iteration 825: 0.466210\n",
            "Cost after iteration 830: 0.463951\n",
            "Cost after iteration 835: 0.461688\n",
            "Cost after iteration 840: 0.459421\n",
            "Cost after iteration 845: 0.457150\n",
            "Cost after iteration 850: 0.454876\n",
            "Cost after iteration 855: 0.452599\n",
            "Cost after iteration 860: 0.450319\n",
            "Cost after iteration 865: 0.448037\n",
            "Cost after iteration 870: 0.445753\n",
            "Cost after iteration 875: 0.443468\n",
            "Cost after iteration 880: 0.441182\n",
            "Cost after iteration 885: 0.438895\n",
            "Cost after iteration 890: 0.436607\n",
            "Cost after iteration 895: 0.434319\n",
            "Cost after iteration 900: 0.432032\n",
            "Cost after iteration 905: 0.429745\n",
            "Cost after iteration 910: 0.427460\n",
            "Cost after iteration 915: 0.425175\n",
            "Cost after iteration 920: 0.422892\n",
            "Cost after iteration 925: 0.420611\n",
            "Cost after iteration 930: 0.418332\n",
            "Cost after iteration 935: 0.416055\n",
            "Cost after iteration 940: 0.413781\n",
            "Cost after iteration 945: 0.411511\n",
            "Cost after iteration 950: 0.409244\n",
            "Cost after iteration 955: 0.406980\n",
            "Cost after iteration 960: 0.404720\n",
            "Cost after iteration 965: 0.402465\n",
            "Cost after iteration 970: 0.400214\n",
            "Cost after iteration 975: 0.397968\n",
            "Cost after iteration 980: 0.395727\n",
            "Cost after iteration 985: 0.393491\n",
            "Cost after iteration 990: 0.391261\n",
            "Cost after iteration 995: 0.389036\n"
          ]
        }
      ]
    },
    {
      "cell_type": "code",
      "source": [
        "def prediction(parameters, X):\n",
        "    A2, cache = forward_propagation(X, parameters)\n",
        "    predictions = np.round(A2)\n",
        "    \n",
        "    return predictions"
      ],
      "metadata": {
        "id": "ctYPReWjN1zT"
      },
      "execution_count": 97,
      "outputs": []
    },
    {
      "cell_type": "code",
      "source": [
        "predictions = prediction(parameters, X_train)\n",
        "print ('Accuracy Train: %d' % float((np.dot(y_train, predictions.T) + np.dot(1 - y_train, 1 - predictions.T))/float(y_train.size)*100) + '%')\n",
        "predictions = prediction(parameters, X_test)\n",
        "print ('Accuracy Test: %d' % float((np.dot(y_test, predictions.T) + np.dot(1 - y_test, 1 - predictions.T))/float(y_test.size)*100) + '%')"
      ],
      "metadata": {
        "colab": {
          "base_uri": "https://localhost:8080/"
        },
        "id": "a1dWQKcCN2In",
        "outputId": "dab0d2cc-6df4-4daf-a89d-2d7a5a41ceaf"
      },
      "execution_count": 98,
      "outputs": [
        {
          "output_type": "stream",
          "name": "stdout",
          "text": [
            "Accuracy Train: 94%\n",
            "Accuracy Test: 95%\n"
          ]
        }
      ]
    },
    {
      "cell_type": "markdown",
      "source": [
        "**Accuracy train : 66% and Accuracy test : 60% with 30 hidden layer and 100 iterations**\n"
      ],
      "metadata": {
        "id": "FHnNacWaOdEx"
      }
    },
    {
      "cell_type": "markdown",
      "source": [
        "**Accuracy train : 94% and Accuracy test : 95% with 600 hidden layer and 1000 iterations**"
      ],
      "metadata": {
        "id": "BSTKhNd4cWzi"
      }
    },
    {
      "cell_type": "code",
      "source": [],
      "metadata": {
        "id": "8gEATcE2cnsd"
      },
      "execution_count": null,
      "outputs": []
    }
  ]
}